{
 "metadata": {
  "language_info": {
   "codemirror_mode": {
    "name": "ipython",
    "version": 3
   },
   "file_extension": ".py",
   "mimetype": "text/x-python",
   "name": "python",
   "nbconvert_exporter": "python",
   "pygments_lexer": "ipython3",
   "version": "3.8.5"
  },
  "orig_nbformat": 2,
  "kernelspec": {
   "name": "python385jvsc74a57bd04e1145cf50f80d38e7d5ee421b26eb038d0a17a3c3f1d8140014648aa76942da",
   "display_name": "Python 3.8.5 64-bit ('base': conda)"
  }
 },
 "nbformat": 4,
 "nbformat_minor": 2,
 "cells": [
  {
   "cell_type": "code",
   "execution_count": 1,
   "metadata": {},
   "outputs": [],
   "source": [
    "from sympy import *\n",
    "init_printing()"
   ]
  },
  {
   "cell_type": "code",
   "execution_count": 2,
   "metadata": {},
   "outputs": [
    {
     "output_type": "stream",
     "name": "stdout",
     "text": [
      "1/sqrt(c - sin(phi) - cos(phi))\n"
     ]
    }
   ],
   "source": [
    "c, phi = symbols('c, phi')\n",
    "expr = c - cos(phi) - sin(phi)\n",
    "expr = 1/sqrt(expr)\n",
    "print(expr)"
   ]
  },
  {
   "cell_type": "code",
   "execution_count": 5,
   "metadata": {},
   "outputs": [
    {
     "output_type": "stream",
     "name": "stdout",
     "text": [
      "Integral(1/sqrt(c - sin(phi) - cos(phi)), (phi, 0, 2*pi))\n"
     ]
    }
   ],
   "source": [
    "result = integrate(expr, (phi, 0, 2*pi))\n",
    "print(result.doit())"
   ]
  },
  {
   "cell_type": "code",
   "execution_count": null,
   "metadata": {},
   "outputs": [],
   "source": []
  }
 ]
}